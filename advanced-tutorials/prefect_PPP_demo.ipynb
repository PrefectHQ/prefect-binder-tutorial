{
 "cells": [
  {
   "cell_type": "markdown",
   "metadata": {},
   "source": [
    "## Objective and Outline\n",
    "\n",
    "Main goal is to have some fun with the PPP dataset [located here](https://home.treasury.gov/policy-issues/cares-act/assistance-for-small-businesses/sba-paycheck-protection-program-loan-level-data).  Inspired by [this tweet](https://twitter.com/dataeditor/status/1280278987797942272) we'll look at city misspellings in the PPP data, starting with Philadelphia.  Specifically we'll look at calculating a histogram of the [Levenshtein distance](https://en.wikipedia.org/wiki/Levenshtein_distance) across all misspellings in the dataset.\n",
    "\n",
    "Some Prefect features we hope to highlight:\n",
    "- Prefect's dynamic mapping feature, and how this places nicely with Dask\n",
    "- running Prefect Flows on Dask with a `LocalCluster`\n"
   ]
  },
  {
   "cell_type": "markdown",
   "metadata": {},
   "source": [
    "## The Data\n",
    "\n",
    "- download the data\n",
    "- look at it\n",
    "- eyeball the Philadelphia mispellings"
   ]
  },
  {
   "cell_type": "code",
   "execution_count": 1,
   "metadata": {},
   "outputs": [
    {
     "data": {
      "text/html": [
       "<div>\n",
       "<style scoped>\n",
       "    .dataframe tbody tr th:only-of-type {\n",
       "        vertical-align: middle;\n",
       "    }\n",
       "\n",
       "    .dataframe tbody tr th {\n",
       "        vertical-align: top;\n",
       "    }\n",
       "\n",
       "    .dataframe thead th {\n",
       "        text-align: right;\n",
       "    }\n",
       "</style>\n",
       "<table border=\"1\" class=\"dataframe\">\n",
       "  <thead>\n",
       "    <tr style=\"text-align: right;\">\n",
       "      <th></th>\n",
       "      <th>LoanRange</th>\n",
       "      <th>BusinessName</th>\n",
       "      <th>Address</th>\n",
       "      <th>City</th>\n",
       "      <th>State</th>\n",
       "      <th>Zip</th>\n",
       "      <th>NAICSCode</th>\n",
       "      <th>BusinessType</th>\n",
       "      <th>RaceEthnicity</th>\n",
       "      <th>Gender</th>\n",
       "      <th>Veteran</th>\n",
       "      <th>NonProfit</th>\n",
       "      <th>JobsRetained</th>\n",
       "      <th>DateApproved</th>\n",
       "      <th>Lender</th>\n",
       "      <th>CD</th>\n",
       "    </tr>\n",
       "  </thead>\n",
       "  <tbody>\n",
       "    <tr>\n",
       "      <th>0</th>\n",
       "      <td>a $5-10 million</td>\n",
       "      <td>ARCTIC SLOPE NATIVE ASSOCIATION, LTD.</td>\n",
       "      <td>7000 Uula St</td>\n",
       "      <td>BARROW</td>\n",
       "      <td>AK</td>\n",
       "      <td>99723.0</td>\n",
       "      <td>813920.0</td>\n",
       "      <td>Non-Profit Organization</td>\n",
       "      <td>Unanswered</td>\n",
       "      <td>Unanswered</td>\n",
       "      <td>Unanswered</td>\n",
       "      <td>Y</td>\n",
       "      <td>295.0</td>\n",
       "      <td>04/14/2020</td>\n",
       "      <td>National Cooperative Bank, National Association</td>\n",
       "      <td>AK - 00</td>\n",
       "    </tr>\n",
       "    <tr>\n",
       "      <th>1</th>\n",
       "      <td>a $5-10 million</td>\n",
       "      <td>CRUZ CONSTRUCTION INC</td>\n",
       "      <td>7000 East Palmer Wasilla Hwy</td>\n",
       "      <td>PALMER</td>\n",
       "      <td>AK</td>\n",
       "      <td>99645.0</td>\n",
       "      <td>238190.0</td>\n",
       "      <td>Subchapter S Corporation</td>\n",
       "      <td>Unanswered</td>\n",
       "      <td>Unanswered</td>\n",
       "      <td>Unanswered</td>\n",
       "      <td>NaN</td>\n",
       "      <td>215.0</td>\n",
       "      <td>04/15/2020</td>\n",
       "      <td>First National Bank Alaska</td>\n",
       "      <td>AK - 00</td>\n",
       "    </tr>\n",
       "    <tr>\n",
       "      <th>2</th>\n",
       "      <td>a $5-10 million</td>\n",
       "      <td>I. C. E. SERVICES, INC</td>\n",
       "      <td>2606 C Street</td>\n",
       "      <td>ANCHORAGE</td>\n",
       "      <td>AK</td>\n",
       "      <td>99503.0</td>\n",
       "      <td>722310.0</td>\n",
       "      <td>Corporation</td>\n",
       "      <td>Unanswered</td>\n",
       "      <td>Unanswered</td>\n",
       "      <td>Unanswered</td>\n",
       "      <td>NaN</td>\n",
       "      <td>367.0</td>\n",
       "      <td>04/11/2020</td>\n",
       "      <td>KeyBank National Association</td>\n",
       "      <td>AK - 00</td>\n",
       "    </tr>\n",
       "    <tr>\n",
       "      <th>3</th>\n",
       "      <td>a $5-10 million</td>\n",
       "      <td>KATMAI HEALTH SERVICES LLC</td>\n",
       "      <td>11001 O'MALLEY CENTRE DRIVE, SUITE 204</td>\n",
       "      <td>ANCHORAGE</td>\n",
       "      <td>AK</td>\n",
       "      <td>99515.0</td>\n",
       "      <td>621111.0</td>\n",
       "      <td>Limited  Liability Company(LLC)</td>\n",
       "      <td>Unanswered</td>\n",
       "      <td>Unanswered</td>\n",
       "      <td>Unanswered</td>\n",
       "      <td>NaN</td>\n",
       "      <td>0.0</td>\n",
       "      <td>04/29/2020</td>\n",
       "      <td>Truist Bank d/b/a Branch Banking &amp; Trust Co</td>\n",
       "      <td>AK - 00</td>\n",
       "    </tr>\n",
       "    <tr>\n",
       "      <th>4</th>\n",
       "      <td>a $5-10 million</td>\n",
       "      <td>MATANUSKA TELEPHONE ASSOCIATION</td>\n",
       "      <td>1740 S. CHUGACH ST</td>\n",
       "      <td>PALMER</td>\n",
       "      <td>AK</td>\n",
       "      <td>99645.0</td>\n",
       "      <td>517311.0</td>\n",
       "      <td>Cooperative</td>\n",
       "      <td>Unanswered</td>\n",
       "      <td>Unanswered</td>\n",
       "      <td>Unanswered</td>\n",
       "      <td>NaN</td>\n",
       "      <td>267.0</td>\n",
       "      <td>06/10/2020</td>\n",
       "      <td>CoBank ACB</td>\n",
       "      <td>AK - 00</td>\n",
       "    </tr>\n",
       "  </tbody>\n",
       "</table>\n",
       "</div>"
      ],
      "text/plain": [
       "         LoanRange                           BusinessName  \\\n",
       "0  a $5-10 million  ARCTIC SLOPE NATIVE ASSOCIATION, LTD.   \n",
       "1  a $5-10 million                  CRUZ CONSTRUCTION INC   \n",
       "2  a $5-10 million                 I. C. E. SERVICES, INC   \n",
       "3  a $5-10 million             KATMAI HEALTH SERVICES LLC   \n",
       "4  a $5-10 million        MATANUSKA TELEPHONE ASSOCIATION   \n",
       "\n",
       "                                  Address       City State      Zip  \\\n",
       "0                            7000 Uula St     BARROW    AK  99723.0   \n",
       "1            7000 East Palmer Wasilla Hwy     PALMER    AK  99645.0   \n",
       "2                           2606 C Street  ANCHORAGE    AK  99503.0   \n",
       "3  11001 O'MALLEY CENTRE DRIVE, SUITE 204  ANCHORAGE    AK  99515.0   \n",
       "4                      1740 S. CHUGACH ST     PALMER    AK  99645.0   \n",
       "\n",
       "   NAICSCode                     BusinessType RaceEthnicity      Gender  \\\n",
       "0   813920.0          Non-Profit Organization    Unanswered  Unanswered   \n",
       "1   238190.0         Subchapter S Corporation    Unanswered  Unanswered   \n",
       "2   722310.0                      Corporation    Unanswered  Unanswered   \n",
       "3   621111.0  Limited  Liability Company(LLC)    Unanswered  Unanswered   \n",
       "4   517311.0                      Cooperative    Unanswered  Unanswered   \n",
       "\n",
       "      Veteran NonProfit  JobsRetained DateApproved  \\\n",
       "0  Unanswered         Y         295.0   04/14/2020   \n",
       "1  Unanswered       NaN         215.0   04/15/2020   \n",
       "2  Unanswered       NaN         367.0   04/11/2020   \n",
       "3  Unanswered       NaN           0.0   04/29/2020   \n",
       "4  Unanswered       NaN         267.0   06/10/2020   \n",
       "\n",
       "                                            Lender       CD  \n",
       "0  National Cooperative Bank, National Association  AK - 00  \n",
       "1                       First National Bank Alaska  AK - 00  \n",
       "2                     KeyBank National Association  AK - 00  \n",
       "3      Truist Bank d/b/a Branch Banking & Trust Co  AK - 00  \n",
       "4                                       CoBank ACB  AK - 00  "
      ]
     },
     "execution_count": 1,
     "metadata": {},
     "output_type": "execute_result"
    }
   ],
   "source": [
    "import pandas as pd\n",
    "\n",
    "df = pd.read_csv(\"PPPData.csv\")\n",
    "df.head()"
   ]
  },
  {
   "cell_type": "code",
   "execution_count": 2,
   "metadata": {},
   "outputs": [
    {
     "data": {
      "text/plain": [
       "57"
      ]
     },
     "execution_count": 2,
     "metadata": {},
     "output_type": "execute_result"
    }
   ],
   "source": [
    "len(df.State.value_counts())"
   ]
  },
  {
   "cell_type": "code",
   "execution_count": 3,
   "metadata": {},
   "outputs": [
    {
     "data": {
      "text/html": [
       "<div>\n",
       "<style scoped>\n",
       "    .dataframe tbody tr th:only-of-type {\n",
       "        vertical-align: middle;\n",
       "    }\n",
       "\n",
       "    .dataframe tbody tr th {\n",
       "        vertical-align: top;\n",
       "    }\n",
       "\n",
       "    .dataframe thead th {\n",
       "        text-align: right;\n",
       "    }\n",
       "</style>\n",
       "<table border=\"1\" class=\"dataframe\">\n",
       "  <thead>\n",
       "    <tr style=\"text-align: right;\">\n",
       "      <th></th>\n",
       "      <th>LoanRange</th>\n",
       "      <th>BusinessName</th>\n",
       "      <th>Address</th>\n",
       "      <th>City</th>\n",
       "      <th>State</th>\n",
       "      <th>Zip</th>\n",
       "      <th>NAICSCode</th>\n",
       "      <th>BusinessType</th>\n",
       "      <th>RaceEthnicity</th>\n",
       "      <th>Gender</th>\n",
       "      <th>Veteran</th>\n",
       "      <th>NonProfit</th>\n",
       "      <th>JobsRetained</th>\n",
       "      <th>DateApproved</th>\n",
       "      <th>Lender</th>\n",
       "      <th>CD</th>\n",
       "    </tr>\n",
       "  </thead>\n",
       "  <tbody>\n",
       "    <tr>\n",
       "      <th>29024</th>\n",
       "      <td>b $2-5 million</td>\n",
       "      <td>YEEZY LLC</td>\n",
       "      <td>6 CENTERPOINTE DR #700</td>\n",
       "      <td>LA PALMA</td>\n",
       "      <td>CA</td>\n",
       "      <td>90623.0</td>\n",
       "      <td>448110.0</td>\n",
       "      <td>Limited  Liability Company(LLC)</td>\n",
       "      <td>Black or African American</td>\n",
       "      <td>Male Owned</td>\n",
       "      <td>Non-Veteran</td>\n",
       "      <td>NaN</td>\n",
       "      <td>106.0</td>\n",
       "      <td>04/13/2020</td>\n",
       "      <td>City National Bank</td>\n",
       "      <td>CA - 38</td>\n",
       "    </tr>\n",
       "  </tbody>\n",
       "</table>\n",
       "</div>"
      ],
      "text/plain": [
       "            LoanRange BusinessName                 Address      City State  \\\n",
       "29024  b $2-5 million    YEEZY LLC  6 CENTERPOINTE DR #700  LA PALMA    CA   \n",
       "\n",
       "           Zip  NAICSCode                     BusinessType  \\\n",
       "29024  90623.0   448110.0  Limited  Liability Company(LLC)   \n",
       "\n",
       "                   RaceEthnicity      Gender      Veteran NonProfit  \\\n",
       "29024  Black or African American  Male Owned  Non-Veteran       NaN   \n",
       "\n",
       "       JobsRetained DateApproved              Lender       CD  \n",
       "29024         106.0   04/13/2020  City National Bank  CA - 38  "
      ]
     },
     "execution_count": 3,
     "metadata": {},
     "output_type": "execute_result"
    }
   ],
   "source": [
    "df[df['BusinessName'].str.lower().str.contains('yeez') == True]"
   ]
  },
  {
   "cell_type": "code",
   "execution_count": 4,
   "metadata": {},
   "outputs": [
    {
     "data": {
      "text/plain": [
       "PHILADELPHIA     2459\n",
       "PHILA              23\n",
       "PHILIPSBURG        16\n",
       "PHILADELPHIA,       3\n",
       "PHILADEPHIA         1\n",
       "PHILADELPIA         1\n",
       "PHILA.              1\n",
       "PHILADELKPHIA       1\n",
       "PHILDADELPHIA       1\n",
       "PHILADELPHILA       1\n",
       "PHILDELPHIA         1\n",
       "Name: City, dtype: int64"
      ]
     },
     "execution_count": 4,
     "metadata": {},
     "output_type": "execute_result"
    }
   ],
   "source": [
    "philly_mask = (df['City'].str.lower().str.startswith('phil') == True) & (df['State'] == 'PA')\n",
    "df[philly_mask].City.value_counts()"
   ]
  },
  {
   "cell_type": "code",
   "execution_count": 5,
   "metadata": {},
   "outputs": [],
   "source": [
    "df2 = pd.read_csv(\"PPPDataSmallLoan-PA.csv\")"
   ]
  },
  {
   "cell_type": "code",
   "execution_count": 6,
   "metadata": {},
   "outputs": [
    {
     "data": {
      "text/plain": [
       "PHILADELPHIA        13498\n",
       "PHILA                 263\n",
       "PHILIPSBURG            85\n",
       "PHILADEPHIA            19\n",
       "PHILADLEPHIA           19\n",
       "PHILDELPHIA            15\n",
       "PHILADELPIA             8\n",
       "PHILADELPHIA,           6\n",
       "PHILADELHIA             4\n",
       "PHILADELPHA             4\n",
       "PHILADLPHIA             4\n",
       "PHILA.                  3\n",
       "PHILLY                  2\n",
       "PHILDADELPHIA           2\n",
       "PHILADEPHILA            2\n",
       "PHILADELLPHIA           2\n",
       "PHILADELPHIA, PA        2\n",
       "PHILADEPLHIA            2\n",
       "PHILADELPHIAP           2\n",
       "PHILLIPSBURG            2\n",
       "PHILAELPHIA             2\n",
       "PHILADELPHIA PA         2\n",
       "PHILADELPHI             2\n",
       "PHILLADELPHIA           2\n",
       "PHILADELPHAI            2\n",
       "PHILADELPPHIA           1\n",
       "PHILADELPH              1\n",
       "PHILADALPHIA            1\n",
       "PHILDADLPHIA            1\n",
       "PHILADELOHIA            1\n",
       "PHILADEPHA              1\n",
       "PHILADELPHIOA           1\n",
       "PHILADELAPHIA           1\n",
       "PHILIDELPHIA            1\n",
       "PHILAD                  1\n",
       "PHILLA                  1\n",
       "PHILADEDLPHIA           1\n",
       "PHILIADELPHIA           1\n",
       "PHILADLELPHIA           1\n",
       "PHILADERLPHIA           1\n",
       "PHILDAELPHIA            1\n",
       "PHILADELPHILA           1\n",
       "PHILOADELPHIA           1\n",
       "PHILADELPHIAPHIA        1\n",
       "PHILDEPPHIA             1\n",
       "PHILADPHIA              1\n",
       "PHILADRLPHIA            1\n",
       "PHILADELPHIA`           1\n",
       "PHILADELHPIA            1\n",
       "PHILADELPOHIA           1\n",
       "Name: City, dtype: int64"
      ]
     },
     "execution_count": 6,
     "metadata": {},
     "output_type": "execute_result"
    }
   ],
   "source": [
    "philly_mask2 = (df2['City'].str.lower().str.startswith('phil') == True) & (df2['State'] == 'PA')\n",
    "df2[philly_mask2].City.value_counts()"
   ]
  },
  {
   "cell_type": "markdown",
   "metadata": {},
   "source": [
    "## Build a Prefect Flow for reproducibility + efficiency\n",
    "\n",
    "Now we'll build a more programmatic set of tasks for downloading / processing our files.  Some Prefect features this is intended to highlight:\n",
    "- Prefect \"mapping\"\n"
   ]
  },
  {
   "cell_type": "code",
   "execution_count": 1,
   "metadata": {},
   "outputs": [
    {
     "output_type": "error",
     "ename": "ModuleNotFoundError",
     "evalue": "No module named 'Levenshtein'",
     "traceback": [
      "\u001b[0;31m---------------------------------------------------------------------------\u001b[0m",
      "\u001b[0;31mModuleNotFoundError\u001b[0m                       Traceback (most recent call last)",
      "\u001b[0;32m<ipython-input-1-22d03ab1471b>\u001b[0m in \u001b[0;36m<module>\u001b[0;34m\u001b[0m\n\u001b[1;32m      8\u001b[0m \u001b[0;32mimport\u001b[0m \u001b[0mzipfile\u001b[0m\u001b[0;34m\u001b[0m\u001b[0;34m\u001b[0m\u001b[0m\n\u001b[1;32m      9\u001b[0m \u001b[0;34m\u001b[0m\u001b[0m\n\u001b[0;32m---> 10\u001b[0;31m \u001b[0;32mfrom\u001b[0m \u001b[0mLevenshtein\u001b[0m \u001b[0;32mimport\u001b[0m \u001b[0mdistance\u001b[0m\u001b[0;34m\u001b[0m\u001b[0;34m\u001b[0m\u001b[0m\n\u001b[0m\u001b[1;32m     11\u001b[0m \u001b[0;34m\u001b[0m\u001b[0m\n\u001b[1;32m     12\u001b[0m \u001b[0;32mfrom\u001b[0m \u001b[0mprefect\u001b[0m \u001b[0;32mimport\u001b[0m \u001b[0mtask\u001b[0m\u001b[0;34m,\u001b[0m \u001b[0mFlow\u001b[0m\u001b[0;34m,\u001b[0m \u001b[0mParameter\u001b[0m\u001b[0;34m,\u001b[0m \u001b[0munmapped\u001b[0m\u001b[0;34m\u001b[0m\u001b[0;34m\u001b[0m\u001b[0m\n",
      "\u001b[0;31mModuleNotFoundError\u001b[0m: No module named 'Levenshtein'"
     ]
    }
   ],
   "source": [
    "import collections\n",
    "import datetime\n",
    "import glob\n",
    "import io\n",
    "import os\n",
    "import pandas as pd\n",
    "import tempfile\n",
    "import zipfile\n",
    "\n",
    "from Levenshtein import distance\n",
    "\n",
    "from prefect import task, Flow, Parameter, unmapped\n",
    "\n",
    "\n",
    "config = Parameter(\"config\", default=dict(prefix=\"phil\", \n",
    "                                          city=\"Philadelphia\"))\n",
    "\n",
    "@task\n",
    "def get_PPP_dataframe():\n",
    "    return pd.read_csv(\"PPPData.csv\")\n",
    "\n",
    "\n",
    "@task\n",
    "def extract_city_spellings(config, data):\n",
    "    \"\"\"\n",
    "    Given config w/ prefix and dataset, returns the unique\n",
    "    set of cities beginning with that prefix.\n",
    "    \"\"\"\n",
    "    prefix = config['prefix'].lower()\n",
    "    mask = data['City'].str.lower().str.startswith(prefix) == True\n",
    "    return list(set(data[mask].City.unique()))\n",
    "\n",
    "\n",
    "@task\n",
    "def compute_dist(string, truth):\n",
    "    \"\"\"\n",
    "    Returns the Levenshtein distance between the two strings\n",
    "    \"\"\"\n",
    "    return distance(string, truth)\n",
    "\n",
    "\n",
    "@task\n",
    "def aggregate_dists(distances):\n",
    "    \"\"\"\n",
    "    Returns a 'histogram' of the counts\n",
    "    \"\"\"\n",
    "    return collections.Counter(distances)\n",
    "\n",
    "\n",
    "# compile our tasks into a Flow object\n",
    "with Flow(\"PPP Coiled Demo\") as flow:\n",
    "\n",
    "    data = get_PPP_dataframe()\n",
    "    spellings = extract_city_spellings(config, data)\n",
    "    \n",
    "    # more interesting dynamic fan out + reduce step\n",
    "    distances = compute_dist.map(spellings, unmapped(config['city']))\n",
    "    results = aggregate_dists(distances)\n",
    "\n",
    "    \n",
    "flow.visualize()"
   ]
  },
  {
   "cell_type": "markdown",
   "metadata": {},
   "source": [
    "## Various ways of running the Flow"
   ]
  },
  {
   "cell_type": "code",
   "execution_count": null,
   "metadata": {},
   "outputs": [],
   "source": [
    "# purely local sequential run\n",
    "flow_state = flow.run()\n",
    "flow_state.result[results].result # final tally"
   ]
  },
  {
   "cell_type": "code",
   "execution_count": null,
   "metadata": {
    "scrolled": true
   },
   "outputs": [],
   "source": [
    "# local dask run\n",
    "from prefect.engine.executors import DaskExecutor\n",
    "\n",
    "flow_state = flow.run(executor=DaskExecutor())\n",
    "flow_state.result[results].result # final tally"
   ]
  }
 ],
 "metadata": {
  "kernelspec": {
   "display_name": "Python 3",
   "language": "python",
   "name": "python3"
  },
  "language_info": {
   "codemirror_mode": {
    "name": "ipython",
    "version": 3
   },
   "file_extension": ".py",
   "mimetype": "text/x-python",
   "name": "python",
   "nbconvert_exporter": "python",
   "pygments_lexer": "ipython3",
   "version": "3.8.3-final"
  }
 },
 "nbformat": 4,
 "nbformat_minor": 2
}